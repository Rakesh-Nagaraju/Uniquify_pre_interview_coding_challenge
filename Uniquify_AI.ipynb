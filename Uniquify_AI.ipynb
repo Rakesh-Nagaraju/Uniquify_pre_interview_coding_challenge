{
  "nbformat": 4,
  "nbformat_minor": 0,
  "metadata": {
    "colab": {
      "name": "Uniquify AI.ipynb",
      "provenance": [],
      "authorship_tag": "ABX9TyOsHdLOQzZ0s4U02LtW9Mlz",
      "include_colab_link": true
    },
    "kernelspec": {
      "name": "python3",
      "display_name": "Python 3"
    },
    "language_info": {
      "name": "python"
    }
  },
  "cells": [
    {
      "cell_type": "markdown",
      "metadata": {
        "id": "view-in-github",
        "colab_type": "text"
      },
      "source": [
        "<a href=\"https://colab.research.google.com/github/Rakesh-Nagaraju/Uniquify_pre_interview_coding_challenge/blob/main/Uniquify_AI.ipynb\" target=\"_parent\"><img src=\"https://colab.research.google.com/assets/colab-badge.svg\" alt=\"Open In Colab\"/></a>"
      ]
    },
    {
      "cell_type": "markdown",
      "metadata": {
        "id": "6hARlL2MMSIg"
      },
      "source": [
        "Using Python, construct a class without importing any modules given the following guidelines:\n",
        "- Given 2 inputs, data and shape, construct a tensor using nested lists.\n",
        "- A tensor a general term for n-dimension matrix. (order goes scalar, vector, matrix, tensor)\n",
        "- Data and shape inputs are given as lists of numbers. Data can be any number (int or float), but shape needs to be a list of positive integers.\n",
        "-Data and shape inputs can be lists of any length.\n",
        "-The constructed tensor can be saved as an instance variable, printed in standard output, or both.\n",
        "-If too many data numbers, cut it off after the tensor fills up. If not enough, pad the tensor w/ zeroes.\n",
        "-Output an empty list if the shape given is also an empty list ([])"
      ]
    },
    {
      "cell_type": "code",
      "metadata": {
        "colab": {
          "base_uri": "https://localhost:8080/"
        },
        "id": "CNBpwQcCMOd3",
        "outputId": "d854f359-62a8-4334-95d6-25db587971f1"
      },
      "source": [
        "class Tensor():\n",
        "  def __init__(self, data, shape):\n",
        "    self.data = data\n",
        "    self.shape = shape\n",
        "    if len(self.shape) == 0: \n",
        "      return []\n",
        "    else:\n",
        "      for i in range(len(self.shape)): \n",
        "       if self.shape[i] < 0:\n",
        "        return []\n",
        "      self.my_tensor = self.shape_data()\n",
        "    \n",
        "  def __repr__(self):\n",
        "    return str(self.my_tensor)\n",
        "\n",
        "  def shape_data(self):\n",
        "    d = self.shape \n",
        "    data = self.data \n",
        "\n",
        "    result = 1\n",
        "    for x in d:\n",
        "            result = result * x\n",
        "    while len(data) < result:\n",
        "      data.append(0)\n",
        "    for i in d:\n",
        "      count = 0\n",
        "      final1 = []\n",
        "      final = []\n",
        "      while data:\n",
        "        final.extend([data[0]])\n",
        "        data.pop(0)\n",
        "        count += 1\n",
        "        if count >= i:\n",
        "          count = count % i\n",
        "          final1.append(final)\n",
        "          final = []\n",
        "      data = final1\n",
        "    return(final1[0])\n",
        "\n",
        "d = (Tensor([0, 1, 2, 3, 4, 5, 0.1, 0.2, -3], [2, 3, 2]))\n",
        "\n",
        "print(d)\n",
        "  \n"
      ],
      "execution_count": 141,
      "outputs": [
        {
          "output_type": "stream",
          "text": [
            "[[[0, 1], [2, 3], [4, 5]], [[0.1, 0.2], [-3, 0], [0, 0]]]\n"
          ],
          "name": "stdout"
        }
      ]
    }
  ]
}